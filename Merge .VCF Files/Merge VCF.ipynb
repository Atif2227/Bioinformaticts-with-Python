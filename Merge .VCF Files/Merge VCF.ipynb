{
 "cells": [
  {
   "cell_type": "code",
   "execution_count": 1,
   "id": "dfaf97ab",
   "metadata": {},
   "outputs": [
    {
     "name": "stdout",
     "output_type": "stream",
     "text": [
      "Successfully Done The Job!\n"
     ]
    }
   ],
   "source": [
    "#Python Program to merge two VCF files so that overlapping variants are present only once in the output file.\n",
    "\n",
    "merged_vcf=open(\"merged_VCF_file.vcf\",'w') #file to write - This file would store the merged VCF files as a single VCF file.\n",
    "\n",
    "data_1=[]\n",
    "with open (\"freebayes_raw.vcf\",'r') as vcf1:\n",
    "    for line in vcf1:\n",
    "        if (line[0] != '#'):\n",
    "            data_1.append(line.split(\"\\t\"))\n",
    "        if (line[0:2] == '#C'):\n",
    "            merged_vcf.write(str(line))\n",
    "#print data_1[0]\n",
    "\n",
    "data_2=[]\n",
    "with open (\"varscan_raw.vcf\",'r') as vcf2:\n",
    "    for line2 in vcf2:\n",
    "        if (line2[0] != '#'):\n",
    "            data_2.append(line2.split(\"\\t\"))\n",
    "com=[]\n",
    "for i in data_1:\n",
    "    #print i[9].strip().split(\":\")#[0]\n",
    "    common_flag=0\n",
    "    data_2_com=[]\n",
    "    for j in data_2:\n",
    "        if (i[0]==j[0] and i[1] == j[1]):\n",
    "            common_flag=1\n",
    "            data_2_com=j\n",
    "    if common_flag==1:\n",
    "        #com.append([i[0], i[1]])\n",
    "        com.append(i)\n",
    "        #check common in INFO\n",
    "        i[7]=i[7]+'calledBy=Freebayes+VarScan'\n",
    "        data_1_com_8=[]\n",
    "        data_1_com_8v=[]\n",
    "        data_2_com_8=[]\n",
    "        data_2_com_8v=[]\n",
    "        count_d1=0\n",
    "        #print data_2_com[8].split(\":\")\n",
    "        for tag_i in i[8].split(\":\"):\n",
    "            com_t_flag=0\n",
    "            count=0\n",
    "            for tag_j in data_2_com[8].split(\":\"):\n",
    "                count=count+1\n",
    "                if (tag_i == tag_j):\n",
    "                    com_t_flag=1\n",
    "                    data_2_com_8.append(tag_j+'_varscan')\n",
    "                    data_2_com_8v.append(data_2_com[9].strip().split(\":\")[count-1])\n",
    "            if com_t_flag==1:\n",
    "                data_1_com_8.append(tag_i+'_freebays')\n",
    "                data_1_com_8v.append(i[9].strip().split(\":\")[count_d1])\n",
    "            count_d1=count_d1+1\n",
    "        i[8]=(':'.join(k1 for k1 in data_1_com_8))+':'+(':'.join(k2 for k2 in data_2_com_8))\n",
    "        i[9]=(':'.join(str(k3) for k3 in data_1_com_8v))+':'+(':'.join(str(k4) for k4 in data_2_com_8v))\n",
    "        merged_vcf.write('\\t'.join(str(e) for e in i))\n",
    "        merged_vcf.write('\\n')\n",
    "    if common_flag==0:\n",
    "        #print i\n",
    "        i[7]=i[7]+'calledBy=Freebayes'\n",
    "        merged_vcf.write('\\t'.join(str(e) for e in i))\n",
    "\n",
    "for ls1 in data_2:\n",
    "    check_flag=0\n",
    "    for el in com:\n",
    "        if (ls1[0]==el[0] and ls1[1] == el[1]):\n",
    "            check_flag=1\n",
    "    if check_flag==0:\n",
    "        ls1[7]='calledBy=VarScan'\n",
    "        merged_vcf.write('\\t'.join(str(e) for e in ls1))\n",
    "\n",
    "vcf1.close()\n",
    "vcf2.close()\n",
    "merged_vcf.close()\n",
    "print (\"Successfully Done The Job!\")"
   ]
  }
 ],
 "metadata": {
  "kernelspec": {
   "display_name": "Python 3",
   "language": "python",
   "name": "python3"
  },
  "language_info": {
   "codemirror_mode": {
    "name": "ipython",
    "version": 3
   },
   "file_extension": ".py",
   "mimetype": "text/x-python",
   "name": "python",
   "nbconvert_exporter": "python",
   "pygments_lexer": "ipython3",
   "version": "3.8.8"
  }
 },
 "nbformat": 4,
 "nbformat_minor": 5
}
